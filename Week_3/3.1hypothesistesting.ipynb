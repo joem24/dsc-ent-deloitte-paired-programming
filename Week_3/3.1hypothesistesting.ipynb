{
 "cells": [
  {
   "cell_type": "markdown",
   "metadata": {
    "id": "aZtSqIOJdoB5"
   },
   "source": [
    "# ⚯ Pair Programming 3.1 - Hypothesis Testing"
   ]
  },
  {
   "cell_type": "markdown",
   "metadata": {
    "id": "VYcXqBhLdoB8"
   },
   "source": [
    "In this exercise, you will have the opportunity to decide to pick the variables that you want to perform one and two sample t-tests."
   ]
  },
  {
   "cell_type": "markdown",
   "metadata": {
    "id": "bemRQ-KhdoB9"
   },
   "source": [
    "## Objectives\n",
    "\n",
    "You will be able to:\n",
    "\n",
    "* Construct and interpret a confidence interval for a single mean\n",
    "* Perform a hypothesis test for a single mean\n",
    "* Construct and interpret a confidence interval for two independent means\n",
    "* Perform a hypothesis test for two independent means\n"
   ]
  },
  {
   "cell_type": "markdown",
   "metadata": {
    "id": "yveycAz2doB9"
   },
   "source": [
    "## The Data: Last Words of Death Row Inmates\n",
    "\n",
    "On Kaggle there is a famous data set of *[Last Words of Death Row Inmates](https://www.kaggle.com/datasets/mykhe1097/last-words-of-death-row-inmates)*. While this data set is often used for natural language processing, we'll use the non-text data for statistical inference on one and two means using the t-distribution."
   ]
  },
  {
   "cell_type": "markdown",
   "metadata": {
    "id": "AFwoq4PulATc"
   },
   "source": [
    "### Data Dictionary\n",
    "\n",
    "The dataset consists of 545 observations with 21 variables. They are:\n",
    "\n",
    "* `Execution`: The order of execution, numeric.\n",
    "* `LastName`: Last name of the offender, character.\n",
    "* `FirstName`: First name of the offender, character.\n",
    "* `TDCJNumber`: TDCJ Number of the offender, numeric.\n",
    "* `Age`: Age of the offender, numeric.\n",
    "* `Race`: Race of the offender, categorical : Black, Hispanic, White, Other.\n",
    "* `CountyOfConviction`: County of conviction, character.\n",
    "* `AgeWhenReceived`: Age of offender when received, numeric.\n",
    "* `EducationLevel`: Education level of offender, numeric.\n",
    "* `NativeCounty`: Native county of offender, categorical : 0 = Within Texas, 1= Outside Texas.\n",
    "* `PreviousCrime`: Whether the offender committed any crime before, categorical: 0= No, 1= Yes.\n",
    "* `Codefendants`: Number of co-defendants, numeric.\n",
    "* `NumberVictim`: Number of victims, numeric.\n",
    "* `WhiteVictim`, `HispanicVictim`, `BlackVictim`, `VictimOtherRace` `FemaleVictim`, `MaleVictim`: Number of victims with specified demographic features, numeric.\n",
    "* `LastStatement`: Last statement of offender, character.\n",
    "\n",
    "The [data file](https://github.com/learn-co-curriculum/dsc-hypothesis-testing-ent/blob/main/data/texas.csv) that we'll be using has the first 20 variables, i.e. we're excluding the `LastStatement` variable.\n",
    "\n",
    "*N.B.*: Note this data is from 1982 - 2017 and for that time period the data is exhaustive."
   ]
  },
  {
   "cell_type": "markdown",
   "metadata": {
    "id": "Ob72RcZhdoB-"
   },
   "source": [
    "## Preliminary Steps\n",
    "\n",
    "As usual, begin with importing the Python libraries that you will need. Then bring in the data and explore it.\n",
    "\n",
    "You'll likely want to use `scipy.stats`. If you want to use `confidence_interval(confidence_level=0.95)` with [`scipy.stats.ttest_ind`](https://docs.scipy.org/doc/scipy/reference/generated/scipy.stats.ttest_ind.html), then you need to have `scipy` version 1.11.0."
   ]
  },
  {
   "cell_type": "code",
   "execution_count": 13,
   "metadata": {
    "id": "j-03O-Ig3tH_"
   },
   "outputs": [
    {
     "data": {
      "text/plain": [
       "'1.11.4'"
      ]
     },
     "execution_count": 13,
     "metadata": {},
     "output_type": "execute_result"
    }
   ],
   "source": [
    "# Pip install version 1.11.0 of scipy (if necessary)\n",
    "# Code here"
   ]
  },
  {
   "cell_type": "code",
   "execution_count": 95,
   "metadata": {
    "id": "EhrUxX3-iyk6"
   },
   "outputs": [],
   "source": [
    "# Bring in germane libraries; you may need to require scipy 11.1.0\n",
    "import pandas as pd\n",
    "import matplotlib.pyplot as plt\n",
    "import scipy\n",
    "import scipy.stats as stats\n",
    "import numpy as np\n",
    "\n",
    "# Code here"
   ]
  },
  {
   "cell_type": "code",
   "execution_count": 4,
   "metadata": {
    "id": "V8YZQ1Oe3cJV"
   },
   "outputs": [],
   "source": [
    "# Your code here to bring in the data\n",
    "df = pd.read_csv('texas.csv')"
   ]
  },
  {
   "cell_type": "markdown",
   "metadata": {
    "id": "I63AnyI7j1wJ"
   },
   "source": [
    "Now that you have brought in the data. Consider these or similar commands to get a feel for the data.\n",
    "* `.info()`\n",
    "* `.head()`\n",
    "\n"
   ]
  },
  {
   "cell_type": "code",
   "execution_count": 11,
   "metadata": {
    "id": "tAqquY033xxP"
   },
   "outputs": [
    {
     "data": {
      "text/html": [
       "<div>\n",
       "<style scoped>\n",
       "    .dataframe tbody tr th:only-of-type {\n",
       "        vertical-align: middle;\n",
       "    }\n",
       "\n",
       "    .dataframe tbody tr th {\n",
       "        vertical-align: top;\n",
       "    }\n",
       "\n",
       "    .dataframe thead th {\n",
       "        text-align: right;\n",
       "    }\n",
       "</style>\n",
       "<table border=\"1\" class=\"dataframe\">\n",
       "  <thead>\n",
       "    <tr style=\"text-align: right;\">\n",
       "      <th></th>\n",
       "      <th>LastName</th>\n",
       "      <th>FirstName</th>\n",
       "      <th>TDCJNumber</th>\n",
       "      <th>Age</th>\n",
       "      <th>Race</th>\n",
       "      <th>CountyOfConviction</th>\n",
       "      <th>AgeWhenReceived</th>\n",
       "      <th>EducationLevel</th>\n",
       "      <th>NativeCounty</th>\n",
       "      <th>PreviousCrime</th>\n",
       "      <th>Codefendants</th>\n",
       "      <th>NumberVictim</th>\n",
       "      <th>WhiteVictim</th>\n",
       "      <th>HispanicVictim</th>\n",
       "      <th>BlackVictim</th>\n",
       "      <th>VictimOther.Races</th>\n",
       "      <th>FemaleVictim</th>\n",
       "      <th>MaleVictim</th>\n",
       "    </tr>\n",
       "  </thead>\n",
       "  <tbody>\n",
       "    <tr>\n",
       "      <th>0</th>\n",
       "      <td>Cardenas</td>\n",
       "      <td>Ruben</td>\n",
       "      <td>999275</td>\n",
       "      <td>47</td>\n",
       "      <td>Hispanic</td>\n",
       "      <td>Hidalgo</td>\n",
       "      <td>28</td>\n",
       "      <td>11</td>\n",
       "      <td>1</td>\n",
       "      <td>0</td>\n",
       "      <td>0</td>\n",
       "      <td>1</td>\n",
       "      <td>0</td>\n",
       "      <td>1</td>\n",
       "      <td>0</td>\n",
       "      <td>0</td>\n",
       "      <td>1</td>\n",
       "      <td>0</td>\n",
       "    </tr>\n",
       "    <tr>\n",
       "      <th>1</th>\n",
       "      <td>Pruett</td>\n",
       "      <td>Robert</td>\n",
       "      <td>999411</td>\n",
       "      <td>38</td>\n",
       "      <td>White</td>\n",
       "      <td>Bee</td>\n",
       "      <td>22</td>\n",
       "      <td>8</td>\n",
       "      <td>0</td>\n",
       "      <td>1</td>\n",
       "      <td>0</td>\n",
       "      <td>1</td>\n",
       "      <td>1</td>\n",
       "      <td>0</td>\n",
       "      <td>0</td>\n",
       "      <td>0</td>\n",
       "      <td>0</td>\n",
       "      <td>1</td>\n",
       "    </tr>\n",
       "    <tr>\n",
       "      <th>2</th>\n",
       "      <td>Preyor</td>\n",
       "      <td>Taichin</td>\n",
       "      <td>999494</td>\n",
       "      <td>46</td>\n",
       "      <td>Black</td>\n",
       "      <td>Bexar</td>\n",
       "      <td>34</td>\n",
       "      <td>10</td>\n",
       "      <td>0</td>\n",
       "      <td>0</td>\n",
       "      <td>0</td>\n",
       "      <td>1</td>\n",
       "      <td>1</td>\n",
       "      <td>0</td>\n",
       "      <td>0</td>\n",
       "      <td>0</td>\n",
       "      <td>0</td>\n",
       "      <td>1</td>\n",
       "    </tr>\n",
       "    <tr>\n",
       "      <th>3</th>\n",
       "      <td>Bigby</td>\n",
       "      <td>James</td>\n",
       "      <td>997</td>\n",
       "      <td>61</td>\n",
       "      <td>White</td>\n",
       "      <td>Tarrant</td>\n",
       "      <td>36</td>\n",
       "      <td>9</td>\n",
       "      <td>0</td>\n",
       "      <td>1</td>\n",
       "      <td>0</td>\n",
       "      <td>1</td>\n",
       "      <td>1</td>\n",
       "      <td>0</td>\n",
       "      <td>0</td>\n",
       "      <td>0</td>\n",
       "      <td>0</td>\n",
       "      <td>1</td>\n",
       "    </tr>\n",
       "    <tr>\n",
       "      <th>4</th>\n",
       "      <td>Ruiz</td>\n",
       "      <td>Rolando</td>\n",
       "      <td>999145</td>\n",
       "      <td>44</td>\n",
       "      <td>Hispanic</td>\n",
       "      <td>Bexar</td>\n",
       "      <td>22</td>\n",
       "      <td>10</td>\n",
       "      <td>0</td>\n",
       "      <td>1</td>\n",
       "      <td>4</td>\n",
       "      <td>1</td>\n",
       "      <td>0</td>\n",
       "      <td>1</td>\n",
       "      <td>0</td>\n",
       "      <td>0</td>\n",
       "      <td>1</td>\n",
       "      <td>0</td>\n",
       "    </tr>\n",
       "  </tbody>\n",
       "</table>\n",
       "</div>"
      ],
      "text/plain": [
       "   LastName FirstName  TDCJNumber  Age      Race CountyOfConviction  \\\n",
       "0  Cardenas     Ruben      999275   47  Hispanic            Hidalgo   \n",
       "1    Pruett    Robert      999411   38     White                Bee   \n",
       "2    Preyor   Taichin      999494   46     Black              Bexar   \n",
       "3     Bigby     James         997   61     White            Tarrant   \n",
       "4      Ruiz   Rolando      999145   44  Hispanic              Bexar   \n",
       "\n",
       "   AgeWhenReceived  EducationLevel  NativeCounty  PreviousCrime  Codefendants  \\\n",
       "0               28              11             1              0             0   \n",
       "1               22               8             0              1             0   \n",
       "2               34              10             0              0             0   \n",
       "3               36               9             0              1             0   \n",
       "4               22              10             0              1             4   \n",
       "\n",
       "   NumberVictim  WhiteVictim  HispanicVictim  BlackVictim  VictimOther.Races  \\\n",
       "0             1            0               1            0                  0   \n",
       "1             1            1               0            0                  0   \n",
       "2             1            1               0            0                  0   \n",
       "3             1            1               0            0                  0   \n",
       "4             1            0               1            0                  0   \n",
       "\n",
       "   FemaleVictim  MaleVictim  \n",
       "0             1           0  \n",
       "1             0           1  \n",
       "2             0           1  \n",
       "3             0           1  \n",
       "4             1           0  "
      ]
     },
     "execution_count": 11,
     "metadata": {},
     "output_type": "execute_result"
    }
   ],
   "source": [
    "# Your code here; you may want to use multiple code chunks for .info() and .head()\n",
    "df.head()\n"
   ]
  },
  {
   "cell_type": "code",
   "execution_count": 9,
   "metadata": {},
   "outputs": [
    {
     "name": "stdout",
     "output_type": "stream",
     "text": [
      "<class 'pandas.core.frame.DataFrame'>\n",
      "RangeIndex: 383 entries, 0 to 382\n",
      "Data columns (total 18 columns):\n",
      " #   Column              Non-Null Count  Dtype \n",
      "---  ------              --------------  ----- \n",
      " 0   LastName            383 non-null    object\n",
      " 1   FirstName           383 non-null    object\n",
      " 2   TDCJNumber          383 non-null    int64 \n",
      " 3   Age                 383 non-null    int64 \n",
      " 4   Race                383 non-null    object\n",
      " 5   CountyOfConviction  383 non-null    object\n",
      " 6   AgeWhenReceived     383 non-null    int64 \n",
      " 7   EducationLevel      383 non-null    int64 \n",
      " 8   NativeCounty        383 non-null    int64 \n",
      " 9   PreviousCrime       383 non-null    int64 \n",
      " 10  Codefendants        383 non-null    int64 \n",
      " 11  NumberVictim        383 non-null    int64 \n",
      " 12  WhiteVictim         383 non-null    int64 \n",
      " 13  HispanicVictim      383 non-null    int64 \n",
      " 14  BlackVictim         383 non-null    int64 \n",
      " 15  VictimOther.Races   383 non-null    int64 \n",
      " 16  FemaleVictim        383 non-null    int64 \n",
      " 17  MaleVictim          383 non-null    int64 \n",
      "dtypes: int64(14), object(4)\n",
      "memory usage: 54.0+ KB\n"
     ]
    }
   ],
   "source": [
    "df.info()"
   ]
  },
  {
   "cell_type": "markdown",
   "metadata": {
    "id": "mzP09_zBdoB_"
   },
   "source": [
    "### Preprocessing"
   ]
  },
  {
   "cell_type": "markdown",
   "metadata": {
    "id": "tm9XD1lWxBXW"
   },
   "source": [
    "While there are a number of preprocessing steps you may choose to make, at the very least you should do the following.\n",
    "\n",
    "Based on the data dictionary and how the data is interpreted by Numpy, convert any non-numeric data into the proper form. Verify that your code worked correctly."
   ]
  },
  {
   "cell_type": "code",
   "execution_count": null,
   "metadata": {
    "id": "oIAcR7ar38PA"
   },
   "outputs": [],
   "source": [
    "# Your code here; you may want to use multiple code chunks\n"
   ]
  },
  {
   "cell_type": "markdown",
   "metadata": {
    "id": "0YKRMML9sMZd"
   },
   "source": [
    "### EDA\n",
    "\n",
    "Now perform Exploratory Data Analysis of at least three variables of your choosing. You should look at both descriptive statistics and visualizations."
   ]
  },
  {
   "cell_type": "code",
   "execution_count": 15,
   "metadata": {
    "id": "m0Qg2JdD4QKy"
   },
   "outputs": [
    {
     "data": {
      "text/html": [
       "<div>\n",
       "<style scoped>\n",
       "    .dataframe tbody tr th:only-of-type {\n",
       "        vertical-align: middle;\n",
       "    }\n",
       "\n",
       "    .dataframe tbody tr th {\n",
       "        vertical-align: top;\n",
       "    }\n",
       "\n",
       "    .dataframe thead th {\n",
       "        text-align: right;\n",
       "    }\n",
       "</style>\n",
       "<table border=\"1\" class=\"dataframe\">\n",
       "  <thead>\n",
       "    <tr style=\"text-align: right;\">\n",
       "      <th></th>\n",
       "      <th>TDCJNumber</th>\n",
       "      <th>Age</th>\n",
       "      <th>AgeWhenReceived</th>\n",
       "      <th>EducationLevel</th>\n",
       "      <th>NativeCounty</th>\n",
       "      <th>PreviousCrime</th>\n",
       "      <th>Codefendants</th>\n",
       "      <th>NumberVictim</th>\n",
       "      <th>WhiteVictim</th>\n",
       "      <th>HispanicVictim</th>\n",
       "      <th>BlackVictim</th>\n",
       "      <th>VictimOther.Races</th>\n",
       "      <th>FemaleVictim</th>\n",
       "      <th>MaleVictim</th>\n",
       "    </tr>\n",
       "  </thead>\n",
       "  <tbody>\n",
       "    <tr>\n",
       "      <th>count</th>\n",
       "      <td>383.000000</td>\n",
       "      <td>383.000000</td>\n",
       "      <td>383.000000</td>\n",
       "      <td>383.000000</td>\n",
       "      <td>383.000000</td>\n",
       "      <td>383.000000</td>\n",
       "      <td>383.000000</td>\n",
       "      <td>383.000000</td>\n",
       "      <td>383.000000</td>\n",
       "      <td>383.000000</td>\n",
       "      <td>383.00000</td>\n",
       "      <td>383.000000</td>\n",
       "      <td>383.000000</td>\n",
       "      <td>383.000000</td>\n",
       "    </tr>\n",
       "    <tr>\n",
       "      <th>mean</th>\n",
       "      <td>579540.853786</td>\n",
       "      <td>39.373368</td>\n",
       "      <td>28.503916</td>\n",
       "      <td>10.182768</td>\n",
       "      <td>0.389034</td>\n",
       "      <td>0.506527</td>\n",
       "      <td>0.814621</td>\n",
       "      <td>1.394256</td>\n",
       "      <td>0.916449</td>\n",
       "      <td>0.248042</td>\n",
       "      <td>0.21671</td>\n",
       "      <td>0.026110</td>\n",
       "      <td>0.689295</td>\n",
       "      <td>0.720627</td>\n",
       "    </tr>\n",
       "    <tr>\n",
       "      <th>std</th>\n",
       "      <td>493478.236004</td>\n",
       "      <td>8.653542</td>\n",
       "      <td>8.181793</td>\n",
       "      <td>2.071501</td>\n",
       "      <td>0.562888</td>\n",
       "      <td>0.500611</td>\n",
       "      <td>1.296227</td>\n",
       "      <td>0.761418</td>\n",
       "      <td>0.842780</td>\n",
       "      <td>0.604165</td>\n",
       "      <td>0.65325</td>\n",
       "      <td>0.215492</td>\n",
       "      <td>0.775991</td>\n",
       "      <td>0.721958</td>\n",
       "    </tr>\n",
       "    <tr>\n",
       "      <th>min</th>\n",
       "      <td>511.000000</td>\n",
       "      <td>24.000000</td>\n",
       "      <td>17.000000</td>\n",
       "      <td>0.000000</td>\n",
       "      <td>0.000000</td>\n",
       "      <td>0.000000</td>\n",
       "      <td>0.000000</td>\n",
       "      <td>0.000000</td>\n",
       "      <td>0.000000</td>\n",
       "      <td>0.000000</td>\n",
       "      <td>0.00000</td>\n",
       "      <td>0.000000</td>\n",
       "      <td>0.000000</td>\n",
       "      <td>0.000000</td>\n",
       "    </tr>\n",
       "    <tr>\n",
       "      <th>25%</th>\n",
       "      <td>873.000000</td>\n",
       "      <td>33.000000</td>\n",
       "      <td>22.000000</td>\n",
       "      <td>9.000000</td>\n",
       "      <td>0.000000</td>\n",
       "      <td>0.000000</td>\n",
       "      <td>0.000000</td>\n",
       "      <td>1.000000</td>\n",
       "      <td>0.000000</td>\n",
       "      <td>0.000000</td>\n",
       "      <td>0.00000</td>\n",
       "      <td>0.000000</td>\n",
       "      <td>0.000000</td>\n",
       "      <td>0.000000</td>\n",
       "    </tr>\n",
       "    <tr>\n",
       "      <th>50%</th>\n",
       "      <td>999080.000000</td>\n",
       "      <td>38.000000</td>\n",
       "      <td>26.000000</td>\n",
       "      <td>10.000000</td>\n",
       "      <td>0.000000</td>\n",
       "      <td>1.000000</td>\n",
       "      <td>0.000000</td>\n",
       "      <td>1.000000</td>\n",
       "      <td>1.000000</td>\n",
       "      <td>0.000000</td>\n",
       "      <td>0.00000</td>\n",
       "      <td>0.000000</td>\n",
       "      <td>1.000000</td>\n",
       "      <td>1.000000</td>\n",
       "    </tr>\n",
       "    <tr>\n",
       "      <th>75%</th>\n",
       "      <td>999265.500000</td>\n",
       "      <td>44.000000</td>\n",
       "      <td>33.500000</td>\n",
       "      <td>12.000000</td>\n",
       "      <td>1.000000</td>\n",
       "      <td>1.000000</td>\n",
       "      <td>1.000000</td>\n",
       "      <td>2.000000</td>\n",
       "      <td>1.000000</td>\n",
       "      <td>0.000000</td>\n",
       "      <td>0.00000</td>\n",
       "      <td>0.000000</td>\n",
       "      <td>1.000000</td>\n",
       "      <td>1.000000</td>\n",
       "    </tr>\n",
       "    <tr>\n",
       "      <th>max</th>\n",
       "      <td>999552.000000</td>\n",
       "      <td>67.000000</td>\n",
       "      <td>57.000000</td>\n",
       "      <td>16.000000</td>\n",
       "      <td>6.000000</td>\n",
       "      <td>1.000000</td>\n",
       "      <td>13.000000</td>\n",
       "      <td>6.000000</td>\n",
       "      <td>5.000000</td>\n",
       "      <td>4.000000</td>\n",
       "      <td>6.00000</td>\n",
       "      <td>3.000000</td>\n",
       "      <td>5.000000</td>\n",
       "      <td>4.000000</td>\n",
       "    </tr>\n",
       "  </tbody>\n",
       "</table>\n",
       "</div>"
      ],
      "text/plain": [
       "          TDCJNumber         Age  AgeWhenReceived  EducationLevel  \\\n",
       "count     383.000000  383.000000       383.000000      383.000000   \n",
       "mean   579540.853786   39.373368        28.503916       10.182768   \n",
       "std    493478.236004    8.653542         8.181793        2.071501   \n",
       "min       511.000000   24.000000        17.000000        0.000000   \n",
       "25%       873.000000   33.000000        22.000000        9.000000   \n",
       "50%    999080.000000   38.000000        26.000000       10.000000   \n",
       "75%    999265.500000   44.000000        33.500000       12.000000   \n",
       "max    999552.000000   67.000000        57.000000       16.000000   \n",
       "\n",
       "       NativeCounty  PreviousCrime  Codefendants  NumberVictim  WhiteVictim  \\\n",
       "count    383.000000     383.000000    383.000000    383.000000   383.000000   \n",
       "mean       0.389034       0.506527      0.814621      1.394256     0.916449   \n",
       "std        0.562888       0.500611      1.296227      0.761418     0.842780   \n",
       "min        0.000000       0.000000      0.000000      0.000000     0.000000   \n",
       "25%        0.000000       0.000000      0.000000      1.000000     0.000000   \n",
       "50%        0.000000       1.000000      0.000000      1.000000     1.000000   \n",
       "75%        1.000000       1.000000      1.000000      2.000000     1.000000   \n",
       "max        6.000000       1.000000     13.000000      6.000000     5.000000   \n",
       "\n",
       "       HispanicVictim  BlackVictim  VictimOther.Races  FemaleVictim  \\\n",
       "count      383.000000    383.00000         383.000000    383.000000   \n",
       "mean         0.248042      0.21671           0.026110      0.689295   \n",
       "std          0.604165      0.65325           0.215492      0.775991   \n",
       "min          0.000000      0.00000           0.000000      0.000000   \n",
       "25%          0.000000      0.00000           0.000000      0.000000   \n",
       "50%          0.000000      0.00000           0.000000      1.000000   \n",
       "75%          0.000000      0.00000           0.000000      1.000000   \n",
       "max          4.000000      6.00000           3.000000      5.000000   \n",
       "\n",
       "       MaleVictim  \n",
       "count  383.000000  \n",
       "mean     0.720627  \n",
       "std      0.721958  \n",
       "min      0.000000  \n",
       "25%      0.000000  \n",
       "50%      1.000000  \n",
       "75%      1.000000  \n",
       "max      4.000000  "
      ]
     },
     "execution_count": 15,
     "metadata": {},
     "output_type": "execute_result"
    }
   ],
   "source": [
    "# Your code here; you may want to use multiple code chunks\n",
    "df.describe()"
   ]
  },
  {
   "cell_type": "code",
   "execution_count": 25,
   "metadata": {},
   "outputs": [
    {
     "data": {
      "text/plain": [
       "EducationLevel\n",
       "12    86\n",
       "10    66\n",
       "9     66\n",
       "11    64\n",
       "8     42\n",
       "7     21\n",
       "14    10\n",
       "13     8\n",
       "6      6\n",
       "16     4\n",
       "5      4\n",
       "15     4\n",
       "3      1\n",
       "0      1\n",
       "Name: count, dtype: int64"
      ]
     },
     "execution_count": 25,
     "metadata": {},
     "output_type": "execute_result"
    }
   ],
   "source": [
    "educationLevel = df['EducationLevel'].value_counts()\n",
    "educationLevel "
   ]
  },
  {
   "cell_type": "code",
   "execution_count": 27,
   "metadata": {},
   "outputs": [
    {
     "data": {
      "text/plain": [
       "Race\n",
       "White       179\n",
       "Black       130\n",
       "Hispanic     73\n",
       "Other         1\n",
       "Name: count, dtype: int64"
      ]
     },
     "execution_count": 27,
     "metadata": {},
     "output_type": "execute_result"
    }
   ],
   "source": [
    "racecount = df['Race'].value_counts()\n",
    "racecount "
   ]
  },
  {
   "cell_type": "code",
   "execution_count": 29,
   "metadata": {},
   "outputs": [
    {
     "data": {
      "text/plain": [
       "CountyOfConviction\n",
       "Harris          73\n",
       "Dallas          34\n",
       "Tarrant         32\n",
       "Bexar           30\n",
       "Montgomery      12\n",
       "                ..\n",
       "San Patricio     1\n",
       "Wilbarger        1\n",
       "Morris           1\n",
       "Gillespie        1\n",
       "Chambers         1\n",
       "Name: count, Length: 82, dtype: int64"
      ]
     },
     "execution_count": 29,
     "metadata": {},
     "output_type": "execute_result"
    }
   ],
   "source": [
    "countycount = df['CountyOfConviction'].value_counts()\n",
    "countycount "
   ]
  },
  {
   "cell_type": "code",
   "execution_count": 31,
   "metadata": {},
   "outputs": [
    {
     "data": {
      "text/plain": [
       "(array([  1.,   1.,   0.,  10.,  21., 108., 130.,  86.,  18.,   8.]),\n",
       " array([ 0. ,  1.6,  3.2,  4.8,  6.4,  8. ,  9.6, 11.2, 12.8, 14.4, 16. ]),\n",
       " <BarContainer object of 10 artists>)"
      ]
     },
     "execution_count": 31,
     "metadata": {},
     "output_type": "execute_result"
    },
    {
     "data": {
      "image/png": "[encoded data removed]",
      "text/plain": [
       "<Figure size 640x480 with 1 Axes>"
      ]
     },
     "metadata": {},
     "output_type": "display_data"
    }
   ],
   "source": [
    "plt.hist(df.EducationLevel)"
   ]
  },
  {
   "cell_type": "markdown",
   "metadata": {
    "id": "IZuCqdl0zCZy"
   },
   "source": [
    "## Statistical Inference"
   ]
  },
  {
   "cell_type": "markdown",
   "metadata": {
    "id": "1Dq2fGxM0dnU"
   },
   "source": [
    "### One mean"
   ]
  },
  {
   "cell_type": "markdown",
   "metadata": {
    "id": "soyonlcH0ev-"
   },
   "source": [
    "Now pick a variable that you can perform statistical inference on a single sample mean using the t-distribution."
   ]
  },
  {
   "cell_type": "markdown",
   "metadata": {
    "id": "87GfQFt3QjEy"
   },
   "source": [
    "In the code block below please respond to all of the following (commented out):\n",
    "\n",
    "*   What is the variable you chose?\n",
    "*   How do you know it is appropriate for statistical inference on a single mean using the t-distribution?\n",
    "*   You'll be asked to contruct and interpret a confidence interval. What is the level of confidence that you'll pick?\n",
    "*   You'll be asked to perform a hypothesis test.\n",
    "  *   What are the null and alternative hypotheses?\n",
    "  *   What is the level of significance?\n",
    "\n"
   ]
  },
  {
   "cell_type": "code",
   "execution_count": 37,
   "metadata": {
    "id": "vuecGCDUP0lU"
   },
   "outputs": [
    {
     "data": {
      "text/plain": [
       "'\\nEducation Level\\nYou can infer upon the mean level of education\\n99%\\nNull: There is no difference in conviction rate based on education level Alt: There is a different conviction rate determined by education level\\n1%\\n'"
      ]
     },
     "execution_count": 37,
     "metadata": {},
     "output_type": "execute_result"
    }
   ],
   "source": [
    "# Type your responses to the bullet points here\n",
    "\"\"\"\n",
    "Education Level\n",
    "You can infer upon the mean level of education\n",
    "99%\n",
    "Null: There is no difference in conviction rate based on education level Alt: There is a different conviction rate determined by education level\n",
    "1%\n",
    "\"\"\"\n"
   ]
  },
  {
   "cell_type": "markdown",
   "metadata": {
    "id": "h1o5o7cITLe6"
   },
   "source": [
    "#### Confidence Interval"
   ]
  },
  {
   "cell_type": "markdown",
   "metadata": {
    "id": "fnG0w6QeTYD1"
   },
   "source": [
    "Now construct a confidence interval for your chosen variable at the level of confidence you chose above."
   ]
  },
  {
   "cell_type": "code",
   "execution_count": 41,
   "metadata": {
    "id": "dXjlJClSTiKu"
   },
   "outputs": [
    {
     "data": {
      "text/plain": [
       "ConfidenceInterval(low=9.908750549070355, high=10.456784698971422)"
      ]
     },
     "execution_count": 41,
     "metadata": {},
     "output_type": "execute_result"
    }
   ],
   "source": [
    "# Type your code for the confidence interval here.\n",
    "ci = stats.ttest_1samp(df.EducationLevel, popmean=0)\n",
    "ci.confidence_interval(confidence_level=0.99)"
   ]
  },
  {
   "cell_type": "markdown",
   "metadata": {
    "id": "emTNtBqvTqh3"
   },
   "source": [
    "Interpret the confidence interval in the code block below (commented out)."
   ]
  },
  {
   "cell_type": "code",
   "execution_count": null,
   "metadata": {
    "id": "bLt2zZhWTwXk"
   },
   "outputs": [],
   "source": [
    "# Interpret the confidence interval\n",
    "# We can conclude that if we were to complete 100 different samples 99 of them would come out between 9.90 and 10.45 "
   ]
  },
  {
   "cell_type": "markdown",
   "metadata": {
    "id": "VGFky-GaT_Om"
   },
   "source": [
    "#### Hypothesis Test"
   ]
  },
  {
   "cell_type": "markdown",
   "metadata": {
    "id": "C0l8ylVUUW9F"
   },
   "source": [
    "Now perform a hypothesis test for your chosen variable at the level of significance you chose above."
   ]
  },
  {
   "cell_type": "code",
   "execution_count": 47,
   "metadata": {
    "id": "BOtQ2Ro2UEwT"
   },
   "outputs": [
    {
     "data": {
      "text/plain": [
       "TtestResult(statistic=1.7266866517489512, pvalue=0.08503239641944643, df=382)"
      ]
     },
     "execution_count": 47,
     "metadata": {},
     "output_type": "execute_result"
    }
   ],
   "source": [
    "# Type your code for the hypothesis test here.\n",
    "ht = stats.ttest_1samp(df.EducationLevel, popmean = 10)\n",
    "ht"
   ]
  },
  {
   "cell_type": "markdown",
   "metadata": {
    "id": "ZD2k0txIVX3y"
   },
   "source": [
    "Draw the appropriate conclusion for the hypothesis test and justify your answer in the code block below (commented out)."
   ]
  },
  {
   "cell_type": "code",
   "execution_count": null,
   "metadata": {
    "id": "LIi-fFiJVkof"
   },
   "outputs": [],
   "source": [
    "# Draw the conclusion from the hypothesis test\n",
    "\"\"\"\n",
    "Null: There is no difference in conviction rate based on education level Alt: There is a different conviction rate determined by education level\n",
    "We fail to reject the null hypothesis because the p-value > level of significance\n",
    "\"\"\""
   ]
  },
  {
   "cell_type": "markdown",
   "metadata": {
    "id": "VnIXJUgCSH3l"
   },
   "source": [
    "### Two means"
   ]
  },
  {
   "cell_type": "markdown",
   "metadata": {
    "id": "IUlz7BvxSM5Q"
   },
   "source": [
    "Now pick a variable that you can perform statistical inference on two (independent) sample means using the t-distribution."
   ]
  },
  {
   "cell_type": "markdown",
   "metadata": {
    "id": "_PXV36ayTBJK"
   },
   "source": [
    "In the code block below please respond to all of the following (commented out):\n",
    "\n",
    "*   What are the variables you chose?\n",
    "*   How do you know it is appropriate for statistical inference on two (independent)means using the t-distribution?\n",
    "*   You'll be asked to contruct and interpret a confidence interval. What is the level of confidence that you'll pick?\n",
    "*   You'll be asked to perform a hypothesis test.\n",
    "  *   What are the null and alternative hypotheses?\n",
    "  *   What is the level of significance?"
   ]
  },
  {
   "cell_type": "code",
   "execution_count": null,
   "metadata": {
    "id": "p794VpcXWTEE"
   },
   "outputs": [],
   "source": [
    "# Type your responses to the bullet points here\n",
    "\"\"\"\n",
    "Education Level by Age Received\n",
    "We can infer the correlation between education level and the age at which they were convicted\n",
    "95%\n",
    "Null: There is no correlation between education level and age of conviction Alt: There is a correlation between education level and age convicted\n",
    "5%\n",
    "\"\"\""
   ]
  },
  {
   "cell_type": "code",
   "execution_count": 17,
   "metadata": {
    "id": "3YovLGNIzwQl"
   },
   "outputs": [],
   "source": []
  },
  {
   "cell_type": "markdown",
   "metadata": {
    "id": "Pc3egPxSWTdE"
   },
   "source": [
    "#### Confidence Interval"
   ]
  },
  {
   "cell_type": "markdown",
   "metadata": {
    "id": "3MiDuELxWZ_T"
   },
   "source": [
    "Now construct a confidence interval for your chosen variables at the level of confidence you chose above."
   ]
  },
  {
   "cell_type": "code",
   "execution_count": 65,
   "metadata": {},
   "outputs": [],
   "source": []
  },
  {
   "cell_type": "code",
   "execution_count": 107,
   "metadata": {},
   "outputs": [
    {
     "data": {
      "text/plain": [
       "ConfidenceInterval(low=17.473510095473824, high=19.16878755465672)"
      ]
     },
     "execution_count": 107,
     "metadata": {},
     "output_type": "execute_result"
    }
   ],
   "source": [
    "ci2 = stats.ttest_ind(df.AgeWhenReceived, df.EducationLevel, equal_var=False, nan_policy='omit')\n",
    "ci2.confidence_interval(confidence_level=0.95)"
   ]
  },
  {
   "cell_type": "markdown",
   "metadata": {
    "id": "pPRD7akgWs1R"
   },
   "source": [
    "Interpret the confidence interval in the code block below (commented out)."
   ]
  },
  {
   "cell_type": "code",
   "execution_count": null,
   "metadata": {
    "id": "O6X00_ewWvmI"
   },
   "outputs": [],
   "source": [
    "# Interpret the confidence interval\n",
    "\"\"\"\n",
    "If we were to complete this experiment 100 times 95 of them would fall between 17.47 and 19.16\n",
    "\"\"\""
   ]
  },
  {
   "cell_type": "markdown",
   "metadata": {
    "id": "6DsuqsS9XEPN"
   },
   "source": [
    "#### Hypothesis Test"
   ]
  },
  {
   "cell_type": "markdown",
   "metadata": {
    "id": "UqEBwLsyXHfi"
   },
   "source": [
    "Now perform a hypothesis test for your chosen variable at the level of significance you chose above."
   ]
  },
  {
   "cell_type": "code",
   "execution_count": 109,
   "metadata": {
    "id": "1OYdIRYHXJ0N"
   },
   "outputs": [
    {
     "data": {
      "text/plain": [
       "TtestResult(statistic=42.48268093086385, pvalue=3.981129235477608e-156, df=430.773701029486)"
      ]
     },
     "execution_count": 109,
     "metadata": {},
     "output_type": "execute_result"
    }
   ],
   "source": [
    "# Type your code for the hypothesis test here.\n",
    "ci2 = stats.ttest_ind(df.AgeWhenReceived, df.EducationLevel, equal_var=False, nan_policy='omit')\n",
    "ci2"
   ]
  },
  {
   "cell_type": "markdown",
   "metadata": {
    "id": "AdN0_obgXQlD"
   },
   "source": [
    "Draw the appropriate conclusion for the hypothesis test and justify your answer in the code block below (commented out)."
   ]
  },
  {
   "cell_type": "code",
   "execution_count": null,
   "metadata": {
    "id": "oFFaMsBIXQ-y"
   },
   "outputs": [],
   "source": [
    "# Draw the conclusion from the hypothesis test\n",
    "\"\"\"\n",
    "We reject the null hypothesis because the p-value < level of significance\n",
    "\"\"\""
   ]
  },
  {
   "cell_type": "markdown",
   "metadata": {
    "id": "KiRJUYK3doCA"
   },
   "source": [
    "## Summary"
   ]
  },
  {
   "cell_type": "markdown",
   "metadata": {
    "id": "6x2NdSafXYsl"
   },
   "source": [
    "Using a multivariate data set, you were able to pick variables to perform one and two sample t confidence intervals and t-tests."
   ]
  }
 ],
 "metadata": {
  "colab": {
   "provenance": []
  },
  "kernelspec": {
   "display_name": "Python 3 (ipykernel)",
   "language": "python",
   "name": "python3"
  },
  "language_info": {
   "codemirror_mode": {
    "name": "ipython",
    "version": 3
   },
   "file_extension": ".py",
   "mimetype": "text/x-python",
   "name": "python",
   "nbconvert_exporter": "python",
   "pygments_lexer": "ipython3",
   "version": "3.11.7"
  }
 },
 "nbformat": 4,
 "nbformat_minor": 4
}
